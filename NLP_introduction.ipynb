{
 "cells": [
  {
   "cell_type": "markdown",
   "metadata": {},
   "source": [
    "# WORD EMBEDDING\n",
    "a computer or a model is not implicitly able to understand text. so it need to have some interior representation of texts. It's doing this with a concept which is called word embeddings.\n",
    "\n",
    "so it's creating long vectors of numbers which are then internally representing texts sentences or just single words.\n",
    "\n",
    "to get this understanding we will cover different concepts:\n",
    "- one very simple called one-hot encoding.\n",
    "- others with neural networks.\n",
    "\n",
    "we will dive deeper and get some understanding of some actual model. This is one of the first models which was showing the value of NLP which is called GLOVE: global vectors for word representation.\n",
    "- we will create some code which is taking different words from different categories and putting them into a two dimensional space.\n",
    "- and this will show that the model is actually able to get the understanding of these concepts."
   ]
  },
  {
   "cell_type": "markdown",
   "metadata": {},
   "source": [
    "# NLP 101\n",
    "- filed of AI with focus on computers to understand, interpret, and generate human language.\n",
    "- involves algorithms, usually deep learning to analyze and manipulate text to speech.\n",
    "- can extract meaningful insights from large amounts of unstructured text data, like social media posts, customer reviews.\n",
    "- wide range of applications:\n",
    "    - chatbots\n",
    "    - sentiment analysis\n",
    "    - translation\n",
    "    - speech recognition\n",
    "\n",
    "- how does it works?\n",
    "the flow is the following. We have certaon text input, so we have for example the string \"i like this book so much I cannot\"\n",
    "and then this one is passed into a neural network model, and there might be different kinds of predictions. So it could be that the next words should be predicted. So then it could sound like: \"i like this book so much I cannot put it down\".\n",
    "\n",
    "It could be provided some sentiment analysis which is returning the polarity or the sentiment of the sentence. Il could also be that you provide this to some text summarization algorithm, and then il could provide some return, like this is a positive book review, or you could provide some translation.\n",
    "\n",
    "\n",
    "But there are some technical steps that we have to take into account. The problem is that we are working with deep learning and deep learning can only work with numerical inputs, but we have strings. So the main topic is actually how can we convert the words that we are using into some kind of numerical representation.\n",
    "\n",
    "So we want to put in this sentence, parse it into a network and get some prediction. But networks can only consume numbers and not text. So there is one additional step that needs to be taken, and this is the CONVERSION OF THE TEXT INTO THIS NUMERICAL FORMAT and this is called word embedding.\n",
    "\n",
    "There are different techniques, but usually the good ones are all based on neural networks. So in the end, deep learning is involved in two stages of this process. It's involved usually in the first step of the word embedding, and then later on, this word embedding is used in the neural network."
   ]
  },
  {
   "cell_type": "markdown",
   "metadata": {},
   "source": [
    "# VOCABULARY\n",
    "- TOKENIZATION -> take the sentence and get a list of tokens. All the different words are taken and separated. There are different tokenizers.\n",
    "- DOCUMENT -> suppose to have a review, if we have a complete sentence corresponding to this review, this could be called a document. And if you have a lot of different reviews you would have a lot of different documents. If you take all these documents together you would have a text corpus, or just corpus."
   ]
  },
  {
   "cell_type": "markdown",
   "metadata": {},
   "source": [
    "# WORD EMBEDDING\n",
    "we are converting in this step our words or even the complete sentences into numbers, and we are representing with this the different words as unique tensors in some higher dimensional space. Ideally, these word embeddings are able to grasp the relationship from one word to another word. So we start with a sentence, and we want to break it down. In the first step, different words are separated by tokenization. And then this one is corresponding to a tensor. So each word will be represented by a tensor, but how we do that?\n",
    "- we can use one-hot encoding or some frequency based approach or we can use some NN approach.\n",
    "- let's start with one-hot encoding. In OHE you have a sentence like:\n",
    "\n",
    "it was a bright cold day\n",
    "\n",
    "0  1   2   3     4    5\n",
    "\n",
    "from the index we construct a matrix:\n",
    "it = 0 = [1,0,0,0,0,0]\n",
    "was = 1 = [0,1,0,0,0,0]\n",
    "a = 2 = [0,0,1,0,0,0]\n",
    "bright = 3 = [0,0,0,1,0,0]\n",
    "cold = 4 = [0,0,0,0,1,0]\n",
    "day = 5 = [0,0,0,0,0,1]\n",
    "\n",
    "- problems with OHE:\n",
    "    - curse of dimensionality -> memory issues\n",
    "    - matrix very sparse\n",
    "    - words are isolated from each other\n",
    "    - all words have the same distance to each other\n",
    "\n",
    "- frequency-based approach: we have different options\n",
    "    - count: count of the words in the document, very simiar to OHE\n",
    "    - TF-IDF: term-frequency/inverse term frequency. Gets count of words in document AND corpus. \n",
    "        - Words frequent in a doc -> important \n",
    "        - words frequent in corpus -> not important\n",
    "    - co-occurrence: gets similarity of words"
   ]
  },
  {
   "cell_type": "markdown",
   "metadata": {},
   "source": [
    "# Sentiment analysis with OHE\n",
    "dataset:\n",
    "- 27481 tweets\n",
    "- text and corresponding sentiment\n",
    "- file 'Tweets.csv'\n",
    "\n",
    "we are going to develop the following:\n",
    "- model trained for sentiment by means of a very simple NN\n",
    "\n",
    "train DataLoader -> linear1 -> ReLU -> linear2\n",
    "\n",
    "we will get back a confusion matrix, we will see that there are several misclassification and we will try to improve the results by changing the word embedding"
   ]
  },
  {
   "cell_type": "code",
   "execution_count": 5,
   "metadata": {},
   "outputs": [],
   "source": [
    "import pandas as pd \n",
    "import numpy as np\n",
    "from collections import Counter \n",
    "\n",
    "# to perform one hot encoding\n",
    "from sklearn.feature_extraction.text import CountVectorizer\n",
    "from sklearn.model_selection import train_test_split\n",
    "from sklearn.metrics import accuracy_score, confusion_matrix\n",
    "\n",
    "# Neural Networks with pytorch\n",
    "import torch\n",
    "import torch.nn as nn\n",
    "\n",
    "# to create the dataset class SentimentData\n",
    "from torch.utils.data import Dataset, DataLoader\n",
    "\n",
    "# visualizatin\n",
    "import seaborn as sns"
   ]
  },
  {
   "cell_type": "code",
   "execution_count": 6,
   "metadata": {},
   "outputs": [
    {
     "data": {
      "text/html": [
       "<div>\n",
       "<style scoped>\n",
       "    .dataframe tbody tr th:only-of-type {\n",
       "        vertical-align: middle;\n",
       "    }\n",
       "\n",
       "    .dataframe tbody tr th {\n",
       "        vertical-align: top;\n",
       "    }\n",
       "\n",
       "    .dataframe thead th {\n",
       "        text-align: right;\n",
       "    }\n",
       "</style>\n",
       "<table border=\"1\" class=\"dataframe\">\n",
       "  <thead>\n",
       "    <tr style=\"text-align: right;\">\n",
       "      <th></th>\n",
       "      <th>textID</th>\n",
       "      <th>text</th>\n",
       "      <th>selected_text</th>\n",
       "      <th>sentiment</th>\n",
       "    </tr>\n",
       "  </thead>\n",
       "  <tbody>\n",
       "    <tr>\n",
       "      <th>0</th>\n",
       "      <td>cb774db0d1</td>\n",
       "      <td>I`d have responded, if I were going</td>\n",
       "      <td>I`d have responded, if I were going</td>\n",
       "      <td>neutral</td>\n",
       "    </tr>\n",
       "    <tr>\n",
       "      <th>1</th>\n",
       "      <td>549e992a42</td>\n",
       "      <td>Sooo SAD I will miss you here in San Diego!!!</td>\n",
       "      <td>Sooo SAD</td>\n",
       "      <td>negative</td>\n",
       "    </tr>\n",
       "    <tr>\n",
       "      <th>2</th>\n",
       "      <td>088c60f138</td>\n",
       "      <td>my boss is bullying me...</td>\n",
       "      <td>bullying me</td>\n",
       "      <td>negative</td>\n",
       "    </tr>\n",
       "    <tr>\n",
       "      <th>3</th>\n",
       "      <td>9642c003ef</td>\n",
       "      <td>what interview! leave me alone</td>\n",
       "      <td>leave me alone</td>\n",
       "      <td>negative</td>\n",
       "    </tr>\n",
       "    <tr>\n",
       "      <th>4</th>\n",
       "      <td>358bd9e861</td>\n",
       "      <td>Sons of ****, why couldn`t they put them on t...</td>\n",
       "      <td>Sons of ****,</td>\n",
       "      <td>negative</td>\n",
       "    </tr>\n",
       "    <tr>\n",
       "      <th>...</th>\n",
       "      <td>...</td>\n",
       "      <td>...</td>\n",
       "      <td>...</td>\n",
       "      <td>...</td>\n",
       "    </tr>\n",
       "    <tr>\n",
       "      <th>27476</th>\n",
       "      <td>4eac33d1c0</td>\n",
       "      <td>wish we could come see u on Denver  husband l...</td>\n",
       "      <td>d lost</td>\n",
       "      <td>negative</td>\n",
       "    </tr>\n",
       "    <tr>\n",
       "      <th>27477</th>\n",
       "      <td>4f4c4fc327</td>\n",
       "      <td>I`ve wondered about rake to.  The client has ...</td>\n",
       "      <td>, don`t force</td>\n",
       "      <td>negative</td>\n",
       "    </tr>\n",
       "    <tr>\n",
       "      <th>27478</th>\n",
       "      <td>f67aae2310</td>\n",
       "      <td>Yay good for both of you. Enjoy the break - y...</td>\n",
       "      <td>Yay good for both of you.</td>\n",
       "      <td>positive</td>\n",
       "    </tr>\n",
       "    <tr>\n",
       "      <th>27479</th>\n",
       "      <td>ed167662a5</td>\n",
       "      <td>But it was worth it  ****.</td>\n",
       "      <td>But it was worth it  ****.</td>\n",
       "      <td>positive</td>\n",
       "    </tr>\n",
       "    <tr>\n",
       "      <th>27480</th>\n",
       "      <td>6f7127d9d7</td>\n",
       "      <td>All this flirting going on - The ATG smiles...</td>\n",
       "      <td>All this flirting going on - The ATG smiles. Y...</td>\n",
       "      <td>neutral</td>\n",
       "    </tr>\n",
       "  </tbody>\n",
       "</table>\n",
       "<p>27480 rows × 4 columns</p>\n",
       "</div>"
      ],
      "text/plain": [
       "           textID                                               text  \\\n",
       "0      cb774db0d1                I`d have responded, if I were going   \n",
       "1      549e992a42      Sooo SAD I will miss you here in San Diego!!!   \n",
       "2      088c60f138                          my boss is bullying me...   \n",
       "3      9642c003ef                     what interview! leave me alone   \n",
       "4      358bd9e861   Sons of ****, why couldn`t they put them on t...   \n",
       "...           ...                                                ...   \n",
       "27476  4eac33d1c0   wish we could come see u on Denver  husband l...   \n",
       "27477  4f4c4fc327   I`ve wondered about rake to.  The client has ...   \n",
       "27478  f67aae2310   Yay good for both of you. Enjoy the break - y...   \n",
       "27479  ed167662a5                         But it was worth it  ****.   \n",
       "27480  6f7127d9d7     All this flirting going on - The ATG smiles...   \n",
       "\n",
       "                                           selected_text sentiment  \n",
       "0                    I`d have responded, if I were going   neutral  \n",
       "1                                               Sooo SAD  negative  \n",
       "2                                            bullying me  negative  \n",
       "3                                         leave me alone  negative  \n",
       "4                                          Sons of ****,  negative  \n",
       "...                                                  ...       ...  \n",
       "27476                                             d lost  negative  \n",
       "27477                                      , don`t force  negative  \n",
       "27478                          Yay good for both of you.  positive  \n",
       "27479                         But it was worth it  ****.  positive  \n",
       "27480  All this flirting going on - The ATG smiles. Y...   neutral  \n",
       "\n",
       "[27480 rows x 4 columns]"
      ]
     },
     "execution_count": 6,
     "metadata": {},
     "output_type": "execute_result"
    }
   ],
   "source": [
    "file_path = r'/Users/giammarcocellini/Desktop/nlp/applied_nlp_python_course/data/Tweets.csv'\n",
    "df = pd.read_csv(file_path).dropna()\n",
    "df"
   ]
  },
  {
   "cell_type": "code",
   "execution_count": 15,
   "metadata": {},
   "outputs": [
    {
     "data": {
      "text/plain": [
       "class\n",
       "1    11117\n",
       "2     8582\n",
       "0     7781\n",
       "Name: count, dtype: int64"
      ]
     },
     "execution_count": 15,
     "metadata": {},
     "output_type": "execute_result"
    }
   ],
   "source": [
    "# get class values based on categories\n",
    "cat_id = {'negative':0,\n",
    "          'neutral':1,\n",
    "          'positive':2}\n",
    "df['class'] = df['sentiment'].map(cat_id)\n",
    "df['class'].value_counts()"
   ]
  },
  {
   "cell_type": "code",
   "execution_count": 8,
   "metadata": {},
   "outputs": [],
   "source": [
    "# Hyperparameters for training\n",
    "\n",
    "BATCH_SIZE = 512\n",
    "NUM_EPOCHS = 80\n"
   ]
  },
  {
   "cell_type": "code",
   "execution_count": 9,
   "metadata": {},
   "outputs": [],
   "source": [
    "# separate independent and dependent variables\n",
    "X = df['text'].values\n",
    "y = df['class'].values"
   ]
  },
  {
   "cell_type": "code",
   "execution_count": 19,
   "metadata": {},
   "outputs": [
    {
     "name": "stdout",
     "output_type": "stream",
     "text": [
      " X train: (13740,) y train: (13740,)\n",
      " X test: (13740,) y test: (13740,)\n"
     ]
    }
   ],
   "source": [
    "# train test split\n",
    "X_train,X_test, y_train, y_test = train_test_split(X,y , test_size = 0.5, random_state =123)\n",
    "\n",
    "print(f' X train: {X_train.shape} y train: {y_train.shape}\\n X test: {X_test.shape} y test: {y_test.shape}')"
   ]
  },
  {
   "cell_type": "code",
   "execution_count": 20,
   "metadata": {},
   "outputs": [],
   "source": [
    "# one hot encoding\n",
    "one_hot = CountVectorizer()\n",
    "x_train_ohe = one_hot.fit_transform(X_train)\n",
    "x_test_ohe = one_hot.transform(X_test)\n"
   ]
  },
  {
   "cell_type": "code",
   "execution_count": 21,
   "metadata": {},
   "outputs": [],
   "source": [
    "# Dataset class\n",
    "\n",
    "class SentimentData(Dataset):\n",
    "    def __init__(self, X,y):\n",
    "        super().__init__()\n",
    "        self.X = torch.Tensor(X.toarray())\n",
    "        self.y = torch.Tensor(y).type(torch.LongTensor)\n",
    "        self.len = len(self.X)\n",
    "\n",
    "    def __len__(self):\n",
    "        return self.len\n",
    "    \n",
    "    def __getitem__(self, index):\n",
    "        return self.X[index], self.y[index]"
   ]
  },
  {
   "cell_type": "code",
   "execution_count": 23,
   "metadata": {},
   "outputs": [],
   "source": [
    "train_ds = SentimentData(X = x_train_ohe, y = y_train)\n",
    "test_ds = SentimentData(X = x_test_ohe, y = y_test)\n",
    "\n",
    "train_loader = DataLoader(dataset = train_ds,\n",
    "                      batch_size = BATCH_SIZE,\n",
    "                      shuffle = True)\n",
    "\n",
    "test_loader = DataLoader(dataset = test_ds,\n",
    "                         batch_size = 15000)\n"
   ]
  },
  {
   "cell_type": "code",
   "execution_count": 26,
   "metadata": {},
   "outputs": [],
   "source": [
    "class SentimentModel(nn.Module):\n",
    "    def __init__(self, NUM_FEATURES, NUM_CLASSES, HIDDEN = 10):\n",
    "        super().__init__()\n",
    "        self.linear = nn.Linear(NUM_FEATURES, HIDDEN)\n",
    "        self.linear2 = nn.Linear(HIDDEN, NUM_CLASSES)\n",
    "        self.relu = nn.ReLU()\n",
    "        self.log_softmax = nn.LogSoftmax(dim = 1)\n",
    "\n",
    "    def forward(self, x):\n",
    "        x = self.linear(x)\n",
    "        x = self.relu(x)\n",
    "        x = self.linear2(x)\n",
    "        x = self.log_softmax(x)\n",
    "        return x \n",
    "model = SentimentModel(NUM_FEATURES=x_train_ohe.shape[1],\n",
    "                       NUM_CLASSES=3)\n",
    "criterion = nn.CrossEntropyLoss()\n",
    "optimizer = torch.optim.AdamW(model.parameters()) #adam with weight decay"
   ]
  },
  {
   "cell_type": "code",
   "execution_count": 28,
   "metadata": {},
   "outputs": [
    {
     "name": "stdout",
     "output_type": "stream",
     "text": [
      "Epoch 0, loss: 12.576854050159454\n",
      "Epoch 1, loss: 11.812712520360947\n",
      "Epoch 2, loss: 11.125360131263733\n",
      "Epoch 3, loss: 10.499882638454437\n",
      "Epoch 4, loss: 9.943452090024948\n",
      "Epoch 5, loss: 9.428720355033875\n",
      "Epoch 6, loss: 8.961932688951492\n",
      "Epoch 7, loss: 8.53370589017868\n",
      "Epoch 8, loss: 8.1401427090168\n",
      "Epoch 9, loss: 7.769872099161148\n",
      "Epoch 10, loss: 7.431159406900406\n",
      "Epoch 11, loss: 7.132153749465942\n",
      "Epoch 12, loss: 6.82892607152462\n",
      "Epoch 13, loss: 6.563441947102547\n",
      "Epoch 14, loss: 6.30914443731308\n",
      "Epoch 15, loss: 6.069761618971825\n",
      "Epoch 16, loss: 5.846452459692955\n",
      "Epoch 17, loss: 5.63597559928894\n",
      "Epoch 18, loss: 5.443030595779419\n",
      "Epoch 19, loss: 5.251870796084404\n",
      "Epoch 20, loss: 5.068573400378227\n",
      "Epoch 21, loss: 4.910281494259834\n",
      "Epoch 22, loss: 4.74867807328701\n",
      "Epoch 23, loss: 4.593914315104485\n",
      "Epoch 24, loss: 4.4553990215063095\n",
      "Epoch 25, loss: 4.328642800450325\n",
      "Epoch 26, loss: 4.196249321103096\n",
      "Epoch 27, loss: 4.073343880474567\n",
      "Epoch 28, loss: 3.9557254761457443\n",
      "Epoch 29, loss: 3.8438433408737183\n",
      "Epoch 30, loss: 3.739526405930519\n",
      "Epoch 31, loss: 3.64248900860548\n",
      "Epoch 32, loss: 3.541414186358452\n",
      "Epoch 33, loss: 3.452075757086277\n",
      "Epoch 34, loss: 3.362274684011936\n",
      "Epoch 35, loss: 3.2691463008522987\n",
      "Epoch 36, loss: 3.190892808139324\n",
      "Epoch 37, loss: 3.111288957297802\n",
      "Epoch 38, loss: 3.0421720519661903\n",
      "Epoch 39, loss: 2.9581388160586357\n",
      "Epoch 40, loss: 2.89860899746418\n",
      "Epoch 41, loss: 2.8311583921313286\n",
      "Epoch 42, loss: 2.7671972811222076\n",
      "Epoch 43, loss: 2.703910492360592\n",
      "Epoch 44, loss: 2.646791771054268\n",
      "Epoch 45, loss: 2.5918858125805855\n",
      "Epoch 46, loss: 2.532808542251587\n",
      "Epoch 47, loss: 2.4839792028069496\n",
      "Epoch 48, loss: 2.428431525826454\n",
      "Epoch 49, loss: 2.3796207010746\n",
      "Epoch 50, loss: 2.3333210721611977\n",
      "Epoch 51, loss: 2.2886795327067375\n",
      "Epoch 52, loss: 2.2427980080246925\n",
      "Epoch 53, loss: 2.193657945841551\n",
      "Epoch 54, loss: 2.154403865337372\n",
      "Epoch 55, loss: 2.117672998458147\n",
      "Epoch 56, loss: 2.0797764286398888\n",
      "Epoch 57, loss: 2.0456843711435795\n",
      "Epoch 58, loss: 2.004457700997591\n",
      "Epoch 59, loss: 1.9690481573343277\n",
      "Epoch 60, loss: 1.9354802146553993\n",
      "Epoch 61, loss: 1.9000709019601345\n",
      "Epoch 62, loss: 1.8670588992536068\n",
      "Epoch 63, loss: 1.8343809582293034\n",
      "Epoch 64, loss: 1.8041067533195019\n",
      "Epoch 65, loss: 1.775068487972021\n",
      "Epoch 66, loss: 1.7477606646716595\n",
      "Epoch 67, loss: 1.7159353271126747\n",
      "Epoch 68, loss: 1.6918798014521599\n",
      "Epoch 69, loss: 1.6618726402521133\n",
      "Epoch 70, loss: 1.6347084119915962\n",
      "Epoch 71, loss: 1.6126515232026577\n",
      "Epoch 72, loss: 1.5880051366984844\n",
      "Epoch 73, loss: 1.5585504844784737\n",
      "Epoch 74, loss: 1.5357773751020432\n",
      "Epoch 75, loss: 1.5117758437991142\n",
      "Epoch 76, loss: 1.4879592545330524\n",
      "Epoch 77, loss: 1.4687843695282936\n",
      "Epoch 78, loss: 1.4455485790967941\n",
      "Epoch 79, loss: 1.4290110059082508\n"
     ]
    }
   ],
   "source": [
    "# model training\n",
    "train_losses = []\n",
    "\n",
    "for e in range(NUM_EPOCHS):\n",
    "    curr_loss = 0\n",
    "    for X_batch, y_batch in train_loader:\n",
    "        optimizer.zero_grad()\n",
    "        y_pred_log = model(X_batch)\n",
    "        loss = criterion(y_pred_log, y_batch.long())\n",
    "\n",
    "        curr_loss += loss.item()\n",
    "        loss.backward()\n",
    "        optimizer.step()\n",
    "    train_losses.append(curr_loss)\n",
    "    print(f'Epoch {e}, loss: {curr_loss}')"
   ]
  },
  {
   "cell_type": "code",
   "execution_count": 29,
   "metadata": {},
   "outputs": [
    {
     "data": {
      "text/plain": [
       "<AxesSubplot:>"
      ]
     },
     "execution_count": 29,
     "metadata": {},
     "output_type": "execute_result"
    },
    {
     "data": {
      "image/png": "[encoded data removed]",
      "text/plain": [
       "<Figure size 640x480 with 1 Axes>"
      ]
     },
     "metadata": {},
     "output_type": "display_data"
    }
   ],
   "source": [
    "# training visualization\n",
    "sns.lineplot(x = list(range(len(train_losses))), y = train_losses)"
   ]
  },
  {
   "cell_type": "code",
   "execution_count": 30,
   "metadata": {},
   "outputs": [
    {
     "name": "stdout",
     "output_type": "stream",
     "text": [
      "the accuracy of the model is 62.9 %\n"
     ]
    }
   ],
   "source": [
    "# model evaluation on test\n",
    "with torch.no_grad():\n",
    "    for X_batch, y_batch in test_loader:\n",
    "        y_test_pred_log = model(X_batch)\n",
    "        y_test_pred = torch.argmax(y_test_pred_log,\n",
    "                                   dim = 1)\n",
    "        \n",
    "y_test_pred_np = y_test_pred.squeeze().cpu().numpy()\n",
    "\n",
    "acc = accuracy_score(y_pred = y_test_pred_np, y_true = y_test)\n",
    "print(f'the accuracy of the model is {np.round(acc,3)*100} %')"
   ]
  },
  {
   "cell_type": "code",
   "execution_count": 32,
   "metadata": {},
   "outputs": [
    {
     "name": "stdout",
     "output_type": "stream",
     "text": [
      "Naive Classifier: 41.0%\n"
     ]
    }
   ],
   "source": [
    "most_common_cnt = Counter(y_test).most_common()[0][1]\n",
    "\n",
    "print(f'Naive Classifier: {np.round(most_common_cnt/len(y_test) *100,1)}%')"
   ]
  },
  {
   "cell_type": "code",
   "execution_count": 33,
   "metadata": {},
   "outputs": [
    {
     "data": {
      "text/plain": [
       "<AxesSubplot:>"
      ]
     },
     "execution_count": 33,
     "metadata": {},
     "output_type": "execute_result"
    },
    {
     "data": {
      "image/png": "[encoded data removed]",
      "text/plain": [
       "<Figure size 640x480 with 2 Axes>"
      ]
     },
     "metadata": {},
     "output_type": "display_data"
    }
   ],
   "source": [
    "sns.heatmap(confusion_matrix(y_test_pred_np, y_test), annot =True, fmt = \".0f\")"
   ]
  },
  {
   "cell_type": "code",
   "execution_count": null,
   "metadata": {},
   "outputs": [],
   "source": []
  }
 ],
 "metadata": {
  "kernelspec": {
   "display_name": "nlp",
   "language": "python",
   "name": "python3"
  },
  "language_info": {
   "codemirror_mode": {
    "name": "ipython",
    "version": 3
   },
   "file_extension": ".py",
   "mimetype": "text/x-python",
   "name": "python",
   "nbconvert_exporter": "python",
   "pygments_lexer": "ipython3",
   "version": "3.10.11"
  }
 },
 "nbformat": 4,
 "nbformat_minor": 2
}
