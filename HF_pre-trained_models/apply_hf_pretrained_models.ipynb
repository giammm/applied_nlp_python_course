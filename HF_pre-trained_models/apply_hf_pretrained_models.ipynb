{
 "cells": [
  {
   "cell_type": "markdown",
   "metadata": {},
   "source": [
    "# Text classification"
   ]
  },
  {
   "cell_type": "code",
   "execution_count": 1,
   "metadata": {},
   "outputs": [],
   "source": [
    "# import packages\n",
    "\n",
    "from transformers import pipeline"
   ]
  },
  {
   "cell_type": "code",
   "execution_count": 2,
   "metadata": {},
   "outputs": [
    {
     "name": "stderr",
     "output_type": "stream",
     "text": [
      "No model was supplied, defaulted to distilbert-base-uncased-finetuned-sst-2-english and revision af0f99b (https://huggingface.co/distilbert-base-uncased-finetuned-sst-2-english).\n",
      "Using a pipeline without specifying a model name and revision in production is not recommended.\n"
     ]
    },
    {
     "data": {
      "application/vnd.jupyter.widget-view+json": {
       "model_id": "b6c24e94aca5416d86abdd9d0b9bdd08",
       "version_major": 2,
       "version_minor": 0
      },
      "text/plain": [
       "config.json:   0%|          | 0.00/629 [00:00<?, ?B/s]"
      ]
     },
     "metadata": {},
     "output_type": "display_data"
    },
    {
     "data": {
      "application/vnd.jupyter.widget-view+json": {
       "model_id": "acdc730e57634e34b556c2cf413983f9",
       "version_major": 2,
       "version_minor": 0
      },
      "text/plain": [
       "model.safetensors:   0%|          | 0.00/268M [00:00<?, ?B/s]"
      ]
     },
     "metadata": {},
     "output_type": "display_data"
    },
    {
     "data": {
      "application/vnd.jupyter.widget-view+json": {
       "model_id": "ca0749aab86b41d58285ad632302b2b2",
       "version_major": 2,
       "version_minor": 0
      },
      "text/plain": [
       "tokenizer_config.json:   0%|          | 0.00/48.0 [00:00<?, ?B/s]"
      ]
     },
     "metadata": {},
     "output_type": "display_data"
    },
    {
     "data": {
      "application/vnd.jupyter.widget-view+json": {
       "model_id": "873aae620b2d4f9891951642c9a37e0f",
       "version_major": 2,
       "version_minor": 0
      },
      "text/plain": [
       "vocab.txt:   0%|          | 0.00/232k [00:00<?, ?B/s]"
      ]
     },
     "metadata": {},
     "output_type": "display_data"
    }
   ],
   "source": [
    "# provide task \n",
    "# this is not a good practice.\n",
    "# it is better to specify the name of the model.\n",
    "# otherwise it will take a default model which may change over time.\n",
    "pipe = pipeline(task = 'text-classification')\n"
   ]
  },
  {
   "cell_type": "code",
   "execution_count": 3,
   "metadata": {},
   "outputs": [
    {
     "data": {
      "text/plain": [
       "[{'label': 'POSITIVE', 'score': 0.9998759031295776}]"
      ]
     },
     "execution_count": 3,
     "metadata": {},
     "output_type": "execute_result"
    }
   ],
   "source": [
    "# run pipe\n",
    "pipe('I like it very much.')"
   ]
  },
  {
   "cell_type": "code",
   "execution_count": 4,
   "metadata": {},
   "outputs": [
    {
     "data": {
      "application/vnd.jupyter.widget-view+json": {
       "model_id": "d81542cbc15f42b59f201fb9431e83b7",
       "version_major": 2,
       "version_minor": 0
      },
      "text/plain": [
       "config.json:   0%|          | 0.00/953 [00:00<?, ?B/s]"
      ]
     },
     "metadata": {},
     "output_type": "display_data"
    },
    {
     "data": {
      "application/vnd.jupyter.widget-view+json": {
       "model_id": "767caa7e453e411fb131bb4910e06f23",
       "version_major": 2,
       "version_minor": 0
      },
      "text/plain": [
       "pytorch_model.bin:   0%|          | 0.00/669M [00:00<?, ?B/s]"
      ]
     },
     "metadata": {},
     "output_type": "display_data"
    },
    {
     "data": {
      "application/vnd.jupyter.widget-view+json": {
       "model_id": "53309c2d6b5043359e3e9fd512623738",
       "version_major": 2,
       "version_minor": 0
      },
      "text/plain": [
       "tokenizer_config.json:   0%|          | 0.00/39.0 [00:00<?, ?B/s]"
      ]
     },
     "metadata": {},
     "output_type": "display_data"
    },
    {
     "data": {
      "application/vnd.jupyter.widget-view+json": {
       "model_id": "c085ff5549244d6c91dde5f132d385a6",
       "version_major": 2,
       "version_minor": 0
      },
      "text/plain": [
       "vocab.txt:   0%|          | 0.00/872k [00:00<?, ?B/s]"
      ]
     },
     "metadata": {},
     "output_type": "display_data"
    },
    {
     "data": {
      "application/vnd.jupyter.widget-view+json": {
       "model_id": "3910b351f24d491eb0ecbd6dc16f82d7",
       "version_major": 2,
       "version_minor": 0
      },
      "text/plain": [
       "special_tokens_map.json:   0%|          | 0.00/112 [00:00<?, ?B/s]"
      ]
     },
     "metadata": {},
     "output_type": "display_data"
    }
   ],
   "source": [
    "# provide model\n",
    "\n",
    "pipe = pipeline(task = 'text-classification',\n",
    "                model = 'nlptown/bert-base-multilingual-uncased-sentiment')\n"
   ]
  },
  {
   "cell_type": "code",
   "execution_count": 5,
   "metadata": {},
   "outputs": [
    {
     "data": {
      "text/plain": [
       "[{'label': '5 stars', 'score': 0.4895460307598114}]"
      ]
     },
     "execution_count": 5,
     "metadata": {},
     "output_type": "execute_result"
    }
   ],
   "source": [
    "# run pipe\n",
    "pipe('I like it very much')"
   ]
  },
  {
   "cell_type": "code",
   "execution_count": 6,
   "metadata": {},
   "outputs": [
    {
     "data": {
      "text/plain": [
       "[{'label': '5 stars', 'score': 0.4895460307598114},\n",
       " {'label': '1 star', 'score': 0.7779748439788818}]"
      ]
     },
     "execution_count": 6,
     "metadata": {},
     "output_type": "execute_result"
    }
   ],
   "source": [
    "# consume a list\n",
    "pipe(['I like it very much',\n",
    "      'I hate it'])"
   ]
  },
  {
   "cell_type": "markdown",
   "metadata": {},
   "source": [
    "# Named Entity Recognition (NER)\n",
    "is a process for structured and unstructured data. It can classify named entities into some predefined categories.\n",
    "\n",
    "sample sentence = \"Apple Inc. was founded by Steve Jobs, Steve Wozniak, and Ronald Wayne on April 1, 1976, in Cupertino, California.\"\n",
    "\n",
    "the NER is based on some predefined entities, which might be these ones:\n",
    "\n",
    "- organization -> \"Apple Inc.\" \n",
    "- people -> \"Steve Jobs\", \"Steve Wozniak\", \"Ronald Wayne\"\n",
    "- date -> \"April 1, 1976\"\n",
    "- location -> \"Cupertino, California\""
   ]
  },
  {
   "cell_type": "code",
   "execution_count": 7,
   "metadata": {},
   "outputs": [],
   "source": [
    "# pipeline NER\n",
    "\n",
    "from transformers import pipeline"
   ]
  },
  {
   "cell_type": "code",
   "execution_count": 8,
   "metadata": {},
   "outputs": [
    {
     "name": "stderr",
     "output_type": "stream",
     "text": [
      "No model was supplied, defaulted to dbmdz/bert-large-cased-finetuned-conll03-english and revision f2482bf (https://huggingface.co/dbmdz/bert-large-cased-finetuned-conll03-english).\n",
      "Using a pipeline without specifying a model name and revision in production is not recommended.\n"
     ]
    },
    {
     "data": {
      "application/vnd.jupyter.widget-view+json": {
       "model_id": "28d0f88e5bd54033a7f8e36e695e3bcc",
       "version_major": 2,
       "version_minor": 0
      },
      "text/plain": [
       "config.json:   0%|          | 0.00/998 [00:00<?, ?B/s]"
      ]
     },
     "metadata": {},
     "output_type": "display_data"
    },
    {
     "data": {
      "application/vnd.jupyter.widget-view+json": {
       "model_id": "08d1e13be6804ed9a801455f9fe3ffa6",
       "version_major": 2,
       "version_minor": 0
      },
      "text/plain": [
       "model.safetensors:   0%|          | 0.00/1.33G [00:00<?, ?B/s]"
      ]
     },
     "metadata": {},
     "output_type": "display_data"
    },
    {
     "name": "stderr",
     "output_type": "stream",
     "text": [
      "Some weights of the model checkpoint at dbmdz/bert-large-cased-finetuned-conll03-english were not used when initializing BertForTokenClassification: ['bert.pooler.dense.bias', 'bert.pooler.dense.weight']\n",
      "- This IS expected if you are initializing BertForTokenClassification from the checkpoint of a model trained on another task or with another architecture (e.g. initializing a BertForSequenceClassification model from a BertForPreTraining model).\n",
      "- This IS NOT expected if you are initializing BertForTokenClassification from the checkpoint of a model that you expect to be exactly identical (initializing a BertForSequenceClassification model from a BertForSequenceClassification model).\n"
     ]
    },
    {
     "data": {
      "application/vnd.jupyter.widget-view+json": {
       "model_id": "15179696dad342be806484fce7634204",
       "version_major": 2,
       "version_minor": 0
      },
      "text/plain": [
       "tokenizer_config.json:   0%|          | 0.00/60.0 [00:00<?, ?B/s]"
      ]
     },
     "metadata": {},
     "output_type": "display_data"
    },
    {
     "data": {
      "application/vnd.jupyter.widget-view+json": {
       "model_id": "c14b462460364733b8de9e190ad4203c",
       "version_major": 2,
       "version_minor": 0
      },
      "text/plain": [
       "vocab.txt:   0%|          | 0.00/213k [00:00<?, ?B/s]"
      ]
     },
     "metadata": {},
     "output_type": "display_data"
    },
    {
     "data": {
      "text/plain": [
       "[{'entity': 'I-ORG',\n",
       "  'score': 0.99959284,\n",
       "  'index': 1,\n",
       "  'word': 'Apple',\n",
       "  'start': 0,\n",
       "  'end': 5},\n",
       " {'entity': 'I-ORG',\n",
       "  'score': 0.9994708,\n",
       "  'index': 2,\n",
       "  'word': 'Inc',\n",
       "  'start': 6,\n",
       "  'end': 9},\n",
       " {'entity': 'I-PER',\n",
       "  'score': 0.9993297,\n",
       "  'index': 7,\n",
       "  'word': 'Steve',\n",
       "  'start': 26,\n",
       "  'end': 31},\n",
       " {'entity': 'I-PER',\n",
       "  'score': 0.9993881,\n",
       "  'index': 8,\n",
       "  'word': 'Job',\n",
       "  'start': 32,\n",
       "  'end': 35},\n",
       " {'entity': 'I-PER',\n",
       "  'score': 0.9853982,\n",
       "  'index': 9,\n",
       "  'word': '##s',\n",
       "  'start': 35,\n",
       "  'end': 36},\n",
       " {'entity': 'I-PER',\n",
       "  'score': 0.9994411,\n",
       "  'index': 11,\n",
       "  'word': 'Steve',\n",
       "  'start': 38,\n",
       "  'end': 43},\n",
       " {'entity': 'I-PER',\n",
       "  'score': 0.99933416,\n",
       "  'index': 12,\n",
       "  'word': 'W',\n",
       "  'start': 44,\n",
       "  'end': 45},\n",
       " {'entity': 'I-PER',\n",
       "  'score': 0.7132423,\n",
       "  'index': 13,\n",
       "  'word': '##oz',\n",
       "  'start': 45,\n",
       "  'end': 47},\n",
       " {'entity': 'I-PER',\n",
       "  'score': 0.7957286,\n",
       "  'index': 14,\n",
       "  'word': '##nia',\n",
       "  'start': 47,\n",
       "  'end': 50},\n",
       " {'entity': 'I-PER',\n",
       "  'score': 0.98822355,\n",
       "  'index': 15,\n",
       "  'word': '##k',\n",
       "  'start': 50,\n",
       "  'end': 51},\n",
       " {'entity': 'I-PER',\n",
       "  'score': 0.9991761,\n",
       "  'index': 18,\n",
       "  'word': 'Ronald',\n",
       "  'start': 57,\n",
       "  'end': 63},\n",
       " {'entity': 'I-PER',\n",
       "  'score': 0.999655,\n",
       "  'index': 19,\n",
       "  'word': 'Wayne',\n",
       "  'start': 64,\n",
       "  'end': 69},\n",
       " {'entity': 'I-LOC',\n",
       "  'score': 0.99580246,\n",
       "  'index': 27,\n",
       "  'word': 'Cup',\n",
       "  'start': 91,\n",
       "  'end': 94},\n",
       " {'entity': 'I-LOC',\n",
       "  'score': 0.9118078,\n",
       "  'index': 28,\n",
       "  'word': '##ert',\n",
       "  'start': 94,\n",
       "  'end': 97},\n",
       " {'entity': 'I-LOC',\n",
       "  'score': 0.99437684,\n",
       "  'index': 29,\n",
       "  'word': '##ino',\n",
       "  'start': 97,\n",
       "  'end': 100},\n",
       " {'entity': 'I-LOC',\n",
       "  'score': 0.998528,\n",
       "  'index': 31,\n",
       "  'word': 'California',\n",
       "  'start': 102,\n",
       "  'end': 112}]"
      ]
     },
     "execution_count": 8,
     "metadata": {},
     "output_type": "execute_result"
    }
   ],
   "source": [
    "pipe = pipeline(task = 'ner')\n",
    "\n",
    "pipe(\"Apple Inc. was founded by Steve Jobs, Steve Wozniak, and Ronald Wayne on April 1, 1976, in Cupertino, California.\")"
   ]
  },
  {
   "cell_type": "markdown",
   "metadata": {},
   "source": [
    "# Question answering\n",
    "allow us to understand and answer to some questions, also it is possible to extract some relevant informations.\n",
    "\n",
    "so you have several documents:\n",
    "- doc1\n",
    "- doc2\n",
    "- doc3\n",
    "- ...\n",
    "- doc n\n",
    "\n",
    "you call the pipeline \"question answering\"\n",
    "\n",
    "and you can extract information from these documents by asking a certain question."
   ]
  },
  {
   "cell_type": "code",
   "execution_count": 9,
   "metadata": {},
   "outputs": [],
   "source": [
    "from transformers import pipeline"
   ]
  },
  {
   "cell_type": "code",
   "execution_count": 11,
   "metadata": {},
   "outputs": [
    {
     "name": "stderr",
     "output_type": "stream",
     "text": [
      "No model was supplied, defaulted to distilbert-base-cased-distilled-squad and revision 626af31 (https://huggingface.co/distilbert-base-cased-distilled-squad).\n",
      "Using a pipeline without specifying a model name and revision in production is not recommended.\n"
     ]
    },
    {
     "data": {
      "text/plain": [
       "[{'score': 0.6673905849456787,\n",
       "  'start': 17,\n",
       "  'end': 45,\n",
       "  'answer': 'a nickname for New York City'},\n",
       " {'score': 0.5683131217956543,\n",
       "  'start': 0,\n",
       "  'end': 13,\n",
       "  'answer': 'the Big Apple'}]"
      ]
     },
     "execution_count": 11,
     "metadata": {},
     "output_type": "execute_result"
    }
   ],
   "source": [
    "pipe = pipeline('question-answering')\n",
    "\n",
    "pipe(context = 'the Big Apple is a nickname for New York City',\n",
    "     question = ['What is the Big Apple?', 'which is the nickname of New York?'])"
   ]
  },
  {
   "cell_type": "markdown",
   "metadata": {},
   "source": [
    "# Text Summarization\n",
    "- distill essential information from source text \n",
    "- preserve meaning and key details\n",
    "- applications\n",
    "    - document summarization\n",
    "    - social media post summarization\n",
    "    - news summarization\n",
    "\n",
    "so the procedure is:\n",
    "\n",
    "you give a \"source text document\" -> pipeline \"summarization\" -> text summarization"
   ]
  },
  {
   "cell_type": "code",
   "execution_count": 12,
   "metadata": {},
   "outputs": [],
   "source": [
    "from transformers import pipeline"
   ]
  },
  {
   "cell_type": "code",
   "execution_count": 18,
   "metadata": {},
   "outputs": [],
   "source": [
    "pipe = pipeline('summarization', model = 'Falconsai/text_summarization')\n",
    "\n",
    "article = \"\"\"The company was founded in 2016 by French entrepreneurs Clément Delangue, Julien Chaumond, and Thomas Wolf in New York City, originally as a company that developed a chatbot app targeted at teenagers.[1] The company was named after the \"hugging face\" emoji.[1] After open sourcing the model behind the chatbot, the company pivoted to focus on being a platform for machine learning.\n",
    "\n",
    "In March 2021, Hugging Face raised US$40 million in a Series B funding round.[2]\n",
    "\n",
    "On April 28, 2021, the company launched the BigScience Research Workshop in collaboration with several other research groups to release an open large language model.[3] In 2022, the workshop concluded with the announcement of BLOOM, a multilingual large language model with 176 billion parameters.[4][5]\n",
    "\n",
    "In December 2022, the company acquired Gradio, an open source library built for developing machine learning applications in Python.[6]\n",
    "\n",
    "On May 5, 2022, the company announced its Series C funding round led by Coatue and Sequoia.[7] The company received a $2 billion valuation.\n",
    "\n",
    "On August 3, 2022, the company announced the Private Hub, an enterprise version of its public Hugging Face Hub that supports SaaS or on-premises deployment.[8]\n",
    "\n",
    "In February 2023, the company announced partnership with Amazon Web Services (AWS) which would allow Hugging Face's products available to AWS customers to use them as the building blocks for their custom applications. The company also said the next generation of BLOOM will be run on Trainium, a proprietary machine learning chip created by AWS.[9][10][11]\n",
    "\n",
    "In August 2023, the company announced that it raised $235 million in a Series D funding, at a $4.5 billion valuation. The funding was led by Salesforce, and notable participation came from Google, Amazon, Nvidia, AMD, Intel, IBM, and Qualcomm.[12]\n",
    "\"\"\""
   ]
  },
  {
   "cell_type": "code",
   "execution_count": 19,
   "metadata": {},
   "outputs": [
    {
     "data": {
      "text/plain": [
       "[{'summary_text': 'Hugging Face was founded in 2016 by French entrepreneurs Clément Delangue, Julien Chau'}]"
      ]
     },
     "execution_count": 19,
     "metadata": {},
     "output_type": "execute_result"
    }
   ],
   "source": [
    "pipe(article, min_length = 5 , max_length = 20)"
   ]
  },
  {
   "cell_type": "markdown",
   "metadata": {},
   "source": [
    "# Translation\n",
    "\n",
    "translate a text from a source language into one or more target languages.\n",
    "\n",
    "document in source language -> pipeline \"translation\" -> document in target language"
   ]
  },
  {
   "cell_type": "code",
   "execution_count": 20,
   "metadata": {},
   "outputs": [],
   "source": [
    "from transformers import pipeline"
   ]
  },
  {
   "cell_type": "code",
   "execution_count": 24,
   "metadata": {},
   "outputs": [
    {
     "data": {
      "application/vnd.jupyter.widget-view+json": {
       "model_id": "6e320b54edb14499b98c2fb9e0086c93",
       "version_major": 2,
       "version_minor": 0
      },
      "text/plain": [
       "config.json:   0%|          | 0.00/1.38k [00:00<?, ?B/s]"
      ]
     },
     "metadata": {},
     "output_type": "display_data"
    },
    {
     "data": {
      "application/vnd.jupyter.widget-view+json": {
       "model_id": "9f469d303f42498baf471b667a71b2c0",
       "version_major": 2,
       "version_minor": 0
      },
      "text/plain": [
       "pytorch_model.bin:   0%|          | 0.00/343M [00:00<?, ?B/s]"
      ]
     },
     "metadata": {},
     "output_type": "display_data"
    },
    {
     "data": {
      "application/vnd.jupyter.widget-view+json": {
       "model_id": "9c9c77d297d6492d9067cd5b4de70102",
       "version_major": 2,
       "version_minor": 0
      },
      "text/plain": [
       "generation_config.json:   0%|          | 0.00/293 [00:00<?, ?B/s]"
      ]
     },
     "metadata": {},
     "output_type": "display_data"
    },
    {
     "data": {
      "application/vnd.jupyter.widget-view+json": {
       "model_id": "824988ba426843bda06823c7cc068cf6",
       "version_major": 2,
       "version_minor": 0
      },
      "text/plain": [
       "tokenizer_config.json:   0%|          | 0.00/42.0 [00:00<?, ?B/s]"
      ]
     },
     "metadata": {},
     "output_type": "display_data"
    },
    {
     "data": {
      "application/vnd.jupyter.widget-view+json": {
       "model_id": "7f0705d4dc4e46279928a9b35f85b59f",
       "version_major": 2,
       "version_minor": 0
      },
      "text/plain": [
       "source.spm:   0%|          | 0.00/789k [00:00<?, ?B/s]"
      ]
     },
     "metadata": {},
     "output_type": "display_data"
    },
    {
     "data": {
      "application/vnd.jupyter.widget-view+json": {
       "model_id": "56c5b8f5c08d433db17683b5d2a3e96f",
       "version_major": 2,
       "version_minor": 0
      },
      "text/plain": [
       "target.spm:   0%|          | 0.00/814k [00:00<?, ?B/s]"
      ]
     },
     "metadata": {},
     "output_type": "display_data"
    },
    {
     "data": {
      "application/vnd.jupyter.widget-view+json": {
       "model_id": "57789bf57034468daec95ceaa8cff217",
       "version_major": 2,
       "version_minor": 0
      },
      "text/plain": [
       "vocab.json:   0%|          | 0.00/2.35M [00:00<?, ?B/s]"
      ]
     },
     "metadata": {},
     "output_type": "display_data"
    },
    {
     "name": "stderr",
     "output_type": "stream",
     "text": [
      "/Users/giammarcocellini/opt/anaconda3/envs/nlp/lib/python3.10/site-packages/transformers/models/marian/tokenization_marian.py:197: UserWarning: Recommended: pip install sacremoses.\n",
      "  warnings.warn(\"Recommended: pip install sacremoses.\")\n"
     ]
    },
    {
     "data": {
      "text/plain": [
       "[{'translation_text': 'La capitale della Francia è Parigi'}]"
      ]
     },
     "execution_count": 24,
     "metadata": {},
     "output_type": "execute_result"
    }
   ],
   "source": [
    "pipe = pipeline(task = 'translation', model = 'Helsinki-NLP/opus-mt-en-it')\n",
    "pipe('The capital of France is Paris')"
   ]
  },
  {
   "cell_type": "markdown",
   "metadata": {},
   "source": [
    "# Fill-mask\n",
    "- with fill-mask you can predict some masked/missing word within given sentence. \n",
    "- model are able to fill blank with suitable word or token based on context.\n",
    "\n",
    "so the procedure is:\n",
    "\"masked sentence\" -> pipeline \"fill-mask\" -> \"sentence unmasked\"\n",
    "\n",
    "example:\n",
    "\n",
    "\"the capital of France is #### -> pipeline \"fill-mask\" -> \"the capital of France is Paris\""
   ]
  },
  {
   "cell_type": "code",
   "execution_count": 25,
   "metadata": {},
   "outputs": [],
   "source": [
    "from transformers import pipeline"
   ]
  },
  {
   "cell_type": "code",
   "execution_count": 27,
   "metadata": {},
   "outputs": [
    {
     "name": "stderr",
     "output_type": "stream",
     "text": [
      "No model was supplied, defaulted to distilroberta-base and revision ec58a5b (https://huggingface.co/distilroberta-base).\n",
      "Using a pipeline without specifying a model name and revision in production is not recommended.\n"
     ]
    },
    {
     "data": {
      "application/vnd.jupyter.widget-view+json": {
       "model_id": "4d39acdb4c854f92b1ab8490cd51ccd0",
       "version_major": 2,
       "version_minor": 0
      },
      "text/plain": [
       "config.json:   0%|          | 0.00/480 [00:00<?, ?B/s]"
      ]
     },
     "metadata": {},
     "output_type": "display_data"
    },
    {
     "data": {
      "application/vnd.jupyter.widget-view+json": {
       "model_id": "33a6c24648154705b9baee4fa9074bc4",
       "version_major": 2,
       "version_minor": 0
      },
      "text/plain": [
       "model.safetensors:   0%|          | 0.00/331M [00:00<?, ?B/s]"
      ]
     },
     "metadata": {},
     "output_type": "display_data"
    },
    {
     "name": "stderr",
     "output_type": "stream",
     "text": [
      "Some weights of the model checkpoint at distilroberta-base were not used when initializing RobertaForMaskedLM: ['roberta.pooler.dense.bias', 'roberta.pooler.dense.weight']\n",
      "- This IS expected if you are initializing RobertaForMaskedLM from the checkpoint of a model trained on another task or with another architecture (e.g. initializing a BertForSequenceClassification model from a BertForPreTraining model).\n",
      "- This IS NOT expected if you are initializing RobertaForMaskedLM from the checkpoint of a model that you expect to be exactly identical (initializing a BertForSequenceClassification model from a BertForSequenceClassification model).\n"
     ]
    },
    {
     "data": {
      "application/vnd.jupyter.widget-view+json": {
       "model_id": "ad223d55fcf84575b366837c1fd612a5",
       "version_major": 2,
       "version_minor": 0
      },
      "text/plain": [
       "tokenizer_config.json:   0%|          | 0.00/25.0 [00:00<?, ?B/s]"
      ]
     },
     "metadata": {},
     "output_type": "display_data"
    },
    {
     "data": {
      "application/vnd.jupyter.widget-view+json": {
       "model_id": "87c8d3ca3e114913ae96b8e6db25b009",
       "version_major": 2,
       "version_minor": 0
      },
      "text/plain": [
       "vocab.json:   0%|          | 0.00/899k [00:00<?, ?B/s]"
      ]
     },
     "metadata": {},
     "output_type": "display_data"
    },
    {
     "data": {
      "application/vnd.jupyter.widget-view+json": {
       "model_id": "f598a22519e445c98b08657ef6989dbb",
       "version_major": 2,
       "version_minor": 0
      },
      "text/plain": [
       "merges.txt:   0%|          | 0.00/456k [00:00<?, ?B/s]"
      ]
     },
     "metadata": {},
     "output_type": "display_data"
    },
    {
     "data": {
      "application/vnd.jupyter.widget-view+json": {
       "model_id": "a7405132bce44778add63526f3e46295",
       "version_major": 2,
       "version_minor": 0
      },
      "text/plain": [
       "tokenizer.json:   0%|          | 0.00/1.36M [00:00<?, ?B/s]"
      ]
     },
     "metadata": {},
     "output_type": "display_data"
    },
    {
     "data": {
      "text/plain": [
       "[{'score': 0.15007786452770233,\n",
       "  'token': 2201,\n",
       "  'token_str': ' Paris',\n",
       "  'sequence': 'The capital of France is Paris'},\n",
       " {'score': 0.02845068648457527,\n",
       "  'token': 4612,\n",
       "  'token_str': ' Barcelona',\n",
       "  'sequence': 'The capital of France is Barcelona'},\n",
       " {'score': 0.021013639867305756,\n",
       "  'token': 7092,\n",
       "  'token_str': ' pictured',\n",
       "  'sequence': 'The capital of France is pictured'},\n",
       " {'score': 0.0197868924587965,\n",
       "  'token': 27356,\n",
       "  'token_str': ' Beirut',\n",
       "  'sequence': 'The capital of France is Beirut'},\n",
       " {'score': 0.019072962924838066,\n",
       "  'token': 35767,\n",
       "  'token_str': ' Napoleon',\n",
       "  'sequence': 'The capital of France is Napoleon'}]"
      ]
     },
     "execution_count": 27,
     "metadata": {},
     "output_type": "execute_result"
    }
   ],
   "source": [
    "pipe = pipeline('fill-mask')\n",
    "pipe('The capital of France is <mask>')"
   ]
  },
  {
   "cell_type": "markdown",
   "metadata": {},
   "source": [
    "# Zero - shot classification\n",
    "during an inference process we have:\n",
    "- training data X\n",
    "- pretrained network (on a very large text corpus)\n",
    "- predictions\n",
    "the interesting part here is that i'm talking here directly about the inference, not the training.\n",
    "\n",
    "during inference you pass not only the training data but also some candidate labels Z. based on the candidate labels the predictions are created. So you get the exact same number of predictions as we have provided candidates, and you get the probabilities for each of these candidates.\n",
    "\n",
    "GOAL:\n",
    "- apply model to task it was not trained on\n",
    "- generalize trained model to new and unseen classes\n",
    "- avoid retraining\n",
    "- use of additional information like embeddings associated to the classes\n",
    "- additional information used to make predictions for new classes by relating to known classes\n",
    "- especially useful if:\n",
    "    - large number of classes available\n",
    "    - classes change frequently\n",
    "\n",
    "\n",
    "different approaches:\n",
    "- attribute-based\n",
    "    - classes associated to attributes that describe its character, e.g. animals\n",
    "    - attributes possible like \"has fur\", \"can fly\",...\n",
    "    - training: model learns to relate attributes to classes\n",
    "    - inference: able to predict unseen class by combining attributes\n",
    "- word embeddings\n",
    "    - classes and instances represented in continuous vector space by word embeddings\n",
    "    - embeddings capture semantic relationships between words and concepts\n",
    "    - geometric relationship applied\n",
    "- transfer learning\n",
    "    - model trained on large dataset\n",
    "    - popular technique \"natural language inference\"\n",
    "        - hypothesis tested to be true, false, undetermined given a premise\n",
    "        - you have some candidate classes, some hypotheses, and finally you get some predictions\n",
    "        - premise: \"I watched a documentation and it was amazing\"\n",
    "        - and you want to get one of the different candidates\n",
    "            - movie\n",
    "            - book\n",
    "            - play\n",
    "        so you want to find out if this text is representing either a movie, a book or a play\n",
    "        - so implicitly what the model is doing is building some hypothesis\n",
    "            - \"the text is about a movie\"\n",
    "            - \"the text is a bout a book\"\n",
    "            - \"the text is about a play\"\n",
    "        - then it calculates some predictions based on some softmax activation function\n",
    "\n"
   ]
  },
  {
   "cell_type": "code",
   "execution_count": 28,
   "metadata": {},
   "outputs": [],
   "source": [
    "from transformers import pipeline \n",
    "import pandas as pd "
   ]
  },
  {
   "cell_type": "code",
   "execution_count": 29,
   "metadata": {},
   "outputs": [
    {
     "data": {
      "application/vnd.jupyter.widget-view+json": {
       "model_id": "14281b20dc7f4897ac0d6ec58d0bbc8a",
       "version_major": 2,
       "version_minor": 0
      },
      "text/plain": [
       "config.json:   0%|          | 0.00/1.15k [00:00<?, ?B/s]"
      ]
     },
     "metadata": {},
     "output_type": "display_data"
    },
    {
     "data": {
      "application/vnd.jupyter.widget-view+json": {
       "model_id": "c5062b2d144242819eec867af5694f54",
       "version_major": 2,
       "version_minor": 0
      },
      "text/plain": [
       "model.safetensors:   0%|          | 0.00/1.63G [00:00<?, ?B/s]"
      ]
     },
     "metadata": {},
     "output_type": "display_data"
    },
    {
     "data": {
      "application/vnd.jupyter.widget-view+json": {
       "model_id": "22f0980ecd154bbe9f4e72fbc139037d",
       "version_major": 2,
       "version_minor": 0
      },
      "text/plain": [
       "tokenizer_config.json:   0%|          | 0.00/26.0 [00:00<?, ?B/s]"
      ]
     },
     "metadata": {},
     "output_type": "display_data"
    },
    {
     "data": {
      "application/vnd.jupyter.widget-view+json": {
       "model_id": "03d976d8e5ce4ced8b99987fb063817f",
       "version_major": 2,
       "version_minor": 0
      },
      "text/plain": [
       "vocab.json:   0%|          | 0.00/899k [00:00<?, ?B/s]"
      ]
     },
     "metadata": {},
     "output_type": "display_data"
    },
    {
     "data": {
      "application/vnd.jupyter.widget-view+json": {
       "model_id": "3daa02148dfd4b3bbfe1533b9df79a42",
       "version_major": 2,
       "version_minor": 0
      },
      "text/plain": [
       "merges.txt:   0%|          | 0.00/456k [00:00<?, ?B/s]"
      ]
     },
     "metadata": {},
     "output_type": "display_data"
    },
    {
     "data": {
      "application/vnd.jupyter.widget-view+json": {
       "model_id": "86a93121f25348729db7a33e329f08df",
       "version_major": 2,
       "version_minor": 0
      },
      "text/plain": [
       "tokenizer.json:   0%|          | 0.00/1.36M [00:00<?, ?B/s]"
      ]
     },
     "metadata": {},
     "output_type": "display_data"
    }
   ],
   "source": [
    "task = 'zero-shot-classification'\n",
    "model = 'facebook/bart-large-mnli'\n",
    "classifier = pipeline(task=task, model = model)"
   ]
  },
  {
   "cell_type": "code",
   "execution_count": 30,
   "metadata": {},
   "outputs": [],
   "source": [
    "# 3 documents: the starts of 3 different books\n",
    "#first list's item: Raymond Changler \"The Big Sleep\" (crime novel)\n",
    "# second: J.R.R Tolkien \"The Lord of the Rings\" (fantasy novel)\n",
    "# third: Bill Bryson \"A Short History of Nearly Everything\"\n",
    "\n",
    "documents = [\"It was about eleven o’clock in the morning, mid October, with the sun not shining and a look of hard wet rain in the clearness of the foothills. I was wearing my powder-blue suit, with dark blue shirt, tie and display handkerchief, black brogues, black wool socks with dark blue clocks on them. I was neat, clean, shaved and sober, and I didn’t care who knew it. I was everything the well-dressed private detective ought to be. I was calling on four million dollars.\",\n",
    "             \"When Mr. Bilbo Baggins of Bag End announced that he would shortly be celebrating his eleventy-first birthday with a party of special magnificence, there was much talk and excitement in Hobbiton.\",\n",
    "             \"Welcome. And congratulations. I am delighted that you could make it. Getting here wasn’t easy, I know. In fact, I suspect it was a little tougher than you realize. To begin with, for you to be here now trillions of drifting atoms had somehow to assemble in an intricate and curiously obliging manner to create you. It’s an arrangement so specialized and particular that it has never been tried before and will only exist this once.\"\n",
    "             ]\n",
    "\n",
    "\n",
    "candidate_labels = ['history','crime','fantasy']"
   ]
  },
  {
   "cell_type": "code",
   "execution_count": 31,
   "metadata": {},
   "outputs": [],
   "source": [
    "res = classifier(documents, candidate_labels = candidate_labels)"
   ]
  },
  {
   "cell_type": "code",
   "execution_count": 32,
   "metadata": {},
   "outputs": [
    {
     "data": {
      "text/plain": [
       "<Axes: title={'center': 'Lord of the Rings'}, xlabel='labels'>"
      ]
     },
     "execution_count": 32,
     "metadata": {},
     "output_type": "execute_result"
    },
    {
     "data": {
      "image/png": "[encoded data removed]",
      "text/plain": [
       "<Figure size 640x480 with 1 Axes>"
      ]
     },
     "metadata": {},
     "output_type": "display_data"
    }
   ],
   "source": [
    "# visualize the results\n",
    "pd.DataFrame(res[1]).plot.bar(x = 'labels',y = 'scores',title = 'Lord of the Rings')\n"
   ]
  },
  {
   "cell_type": "code",
   "execution_count": 35,
   "metadata": {},
   "outputs": [
    {
     "data": {
      "text/plain": [
       "{'sequence': 'When Mr. Bilbo Baggins of Bag End announced that he would shortly be celebrating his eleventy-first birthday with a party of special magnificence, there was much talk and excitement in Hobbiton.',\n",
       " 'labels': ['fantasy', 'history', 'crime'],\n",
       " 'scores': [0.7727022767066956, 0.15307344496250153, 0.0017908489098772407]}"
      ]
     },
     "execution_count": 35,
     "metadata": {},
     "output_type": "execute_result"
    }
   ],
   "source": [
    "# flag multiple labels - a document could belong to different classes\n",
    "\n",
    "classifier(documents[1], candidate_labels = candidate_labels,\n",
    "           multi_label = True)"
   ]
  },
  {
   "cell_type": "code",
   "execution_count": null,
   "metadata": {},
   "outputs": [],
   "source": []
  }
 ],
 "metadata": {
  "kernelspec": {
   "display_name": "nlp",
   "language": "python",
   "name": "python3"
  },
  "language_info": {
   "codemirror_mode": {
    "name": "ipython",
    "version": 3
   },
   "file_extension": ".py",
   "mimetype": "text/x-python",
   "name": "python",
   "nbconvert_exporter": "python",
   "pygments_lexer": "ipython3",
   "version": "3.10.11"
  }
 },
 "nbformat": 4,
 "nbformat_minor": 2
}
