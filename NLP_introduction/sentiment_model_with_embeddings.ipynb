{
 "cells": [
  {
   "cell_type": "code",
   "execution_count": 31,
   "metadata": {},
   "outputs": [],
   "source": [
    "import numpy as np \n",
    "import pandas as pd \n",
    "import pickle \n",
    "from collections import Counter \n",
    "import seaborn as sns\n",
    "\n",
    "from sklearn.model_selection import train_test_split\n",
    "from sklearn.metrics import accuracy_score\n",
    "\n",
    "import torch\n",
    "import torch.nn as nn\n",
    "from torch.utils.data import Dataset,DataLoader\n"
   ]
  },
  {
   "cell_type": "code",
   "execution_count": 32,
   "metadata": {},
   "outputs": [
    {
     "data": {
      "text/html": [
       "<div>\n",
       "<style scoped>\n",
       "    .dataframe tbody tr th:only-of-type {\n",
       "        vertical-align: middle;\n",
       "    }\n",
       "\n",
       "    .dataframe tbody tr th {\n",
       "        vertical-align: top;\n",
       "    }\n",
       "\n",
       "    .dataframe thead th {\n",
       "        text-align: right;\n",
       "    }\n",
       "</style>\n",
       "<table border=\"1\" class=\"dataframe\">\n",
       "  <thead>\n",
       "    <tr style=\"text-align: right;\">\n",
       "      <th></th>\n",
       "      <th>textID</th>\n",
       "      <th>text</th>\n",
       "      <th>selected_text</th>\n",
       "      <th>sentiment</th>\n",
       "    </tr>\n",
       "  </thead>\n",
       "  <tbody>\n",
       "    <tr>\n",
       "      <th>0</th>\n",
       "      <td>cb774db0d1</td>\n",
       "      <td>I`d have responded, if I were going</td>\n",
       "      <td>I`d have responded, if I were going</td>\n",
       "      <td>neutral</td>\n",
       "    </tr>\n",
       "    <tr>\n",
       "      <th>1</th>\n",
       "      <td>549e992a42</td>\n",
       "      <td>Sooo SAD I will miss you here in San Diego!!!</td>\n",
       "      <td>Sooo SAD</td>\n",
       "      <td>negative</td>\n",
       "    </tr>\n",
       "    <tr>\n",
       "      <th>2</th>\n",
       "      <td>088c60f138</td>\n",
       "      <td>my boss is bullying me...</td>\n",
       "      <td>bullying me</td>\n",
       "      <td>negative</td>\n",
       "    </tr>\n",
       "    <tr>\n",
       "      <th>3</th>\n",
       "      <td>9642c003ef</td>\n",
       "      <td>what interview! leave me alone</td>\n",
       "      <td>leave me alone</td>\n",
       "      <td>negative</td>\n",
       "    </tr>\n",
       "    <tr>\n",
       "      <th>4</th>\n",
       "      <td>358bd9e861</td>\n",
       "      <td>Sons of ****, why couldn`t they put them on t...</td>\n",
       "      <td>Sons of ****,</td>\n",
       "      <td>negative</td>\n",
       "    </tr>\n",
       "    <tr>\n",
       "      <th>...</th>\n",
       "      <td>...</td>\n",
       "      <td>...</td>\n",
       "      <td>...</td>\n",
       "      <td>...</td>\n",
       "    </tr>\n",
       "    <tr>\n",
       "      <th>27476</th>\n",
       "      <td>4eac33d1c0</td>\n",
       "      <td>wish we could come see u on Denver  husband l...</td>\n",
       "      <td>d lost</td>\n",
       "      <td>negative</td>\n",
       "    </tr>\n",
       "    <tr>\n",
       "      <th>27477</th>\n",
       "      <td>4f4c4fc327</td>\n",
       "      <td>I`ve wondered about rake to.  The client has ...</td>\n",
       "      <td>, don`t force</td>\n",
       "      <td>negative</td>\n",
       "    </tr>\n",
       "    <tr>\n",
       "      <th>27478</th>\n",
       "      <td>f67aae2310</td>\n",
       "      <td>Yay good for both of you. Enjoy the break - y...</td>\n",
       "      <td>Yay good for both of you.</td>\n",
       "      <td>positive</td>\n",
       "    </tr>\n",
       "    <tr>\n",
       "      <th>27479</th>\n",
       "      <td>ed167662a5</td>\n",
       "      <td>But it was worth it  ****.</td>\n",
       "      <td>But it was worth it  ****.</td>\n",
       "      <td>positive</td>\n",
       "    </tr>\n",
       "    <tr>\n",
       "      <th>27480</th>\n",
       "      <td>6f7127d9d7</td>\n",
       "      <td>All this flirting going on - The ATG smiles...</td>\n",
       "      <td>All this flirting going on - The ATG smiles. Y...</td>\n",
       "      <td>neutral</td>\n",
       "    </tr>\n",
       "  </tbody>\n",
       "</table>\n",
       "<p>27480 rows × 4 columns</p>\n",
       "</div>"
      ],
      "text/plain": [
       "           textID                                               text  \\\n",
       "0      cb774db0d1                I`d have responded, if I were going   \n",
       "1      549e992a42      Sooo SAD I will miss you here in San Diego!!!   \n",
       "2      088c60f138                          my boss is bullying me...   \n",
       "3      9642c003ef                     what interview! leave me alone   \n",
       "4      358bd9e861   Sons of ****, why couldn`t they put them on t...   \n",
       "...           ...                                                ...   \n",
       "27476  4eac33d1c0   wish we could come see u on Denver  husband l...   \n",
       "27477  4f4c4fc327   I`ve wondered about rake to.  The client has ...   \n",
       "27478  f67aae2310   Yay good for both of you. Enjoy the break - y...   \n",
       "27479  ed167662a5                         But it was worth it  ****.   \n",
       "27480  6f7127d9d7     All this flirting going on - The ATG smiles...   \n",
       "\n",
       "                                           selected_text sentiment  \n",
       "0                    I`d have responded, if I were going   neutral  \n",
       "1                                               Sooo SAD  negative  \n",
       "2                                            bullying me  negative  \n",
       "3                                         leave me alone  negative  \n",
       "4                                          Sons of ****,  negative  \n",
       "...                                                  ...       ...  \n",
       "27476                                             d lost  negative  \n",
       "27477                                      , don`t force  negative  \n",
       "27478                          Yay good for both of you.  positive  \n",
       "27479                         But it was worth it  ****.  positive  \n",
       "27480  All this flirting going on - The ATG smiles. Y...   neutral  \n",
       "\n",
       "[27480 rows x 4 columns]"
      ]
     },
     "execution_count": 32,
     "metadata": {},
     "output_type": "execute_result"
    }
   ],
   "source": [
    "# import data \n",
    "file_path = r'/Users/giammarcocellini/Desktop/nlp/applied_nlp_python_course/data/Tweets.csv'\n",
    "df = pd.read_csv(file_path).dropna()\n",
    "df"
   ]
  },
  {
   "cell_type": "code",
   "execution_count": 33,
   "metadata": {},
   "outputs": [
    {
     "data": {
      "text/plain": [
       "class\n",
       "1    11117\n",
       "2     8582\n",
       "0     7781\n",
       "Name: count, dtype: int64"
      ]
     },
     "execution_count": 33,
     "metadata": {},
     "output_type": "execute_result"
    }
   ],
   "source": [
    "cat_id = {'negative':0,\n",
    "          'neutral':1,\n",
    "          'positive':2}\n",
    "\n",
    "df['class'] = df['sentiment'].map(cat_id)\n",
    "df['class'].value_counts()\n"
   ]
  },
  {
   "cell_type": "code",
   "execution_count": 34,
   "metadata": {},
   "outputs": [],
   "source": [
    "# hyperparameters \n",
    "BATCH_SIZE = 128\n",
    "NUM_EPOCHS = 80\n",
    "MAX_FEATURES = 10"
   ]
  },
  {
   "cell_type": "code",
   "execution_count": 5,
   "metadata": {},
   "outputs": [
    {
     "name": "stderr",
     "output_type": "stream",
     "text": [
      "/Users/giammarcocellini/opt/anaconda3/envs/nlp/lib/python3.10/site-packages/tqdm/auto.py:21: TqdmWarning: IProgress not found. Please update jupyter and ipywidgets. See https://ipywidgets.readthedocs.io/en/stable/user_install.html\n",
      "  from .autonotebook import tqdm as notebook_tqdm\n",
      "modules.json: 100%|██████████| 349/349 [00:00<00:00, 249kB/s]\n",
      "config_sentence_transformers.json: 100%|██████████| 116/116 [00:00<00:00, 286kB/s]\n",
      "README.md: 100%|██████████| 9.90k/9.90k [00:00<00:00, 18.9MB/s]\n",
      "sentence_bert_config.json: 100%|██████████| 53.0/53.0 [00:00<00:00, 112kB/s]\n",
      "config.json: 100%|██████████| 591/591 [00:00<00:00, 906kB/s]\n",
      "model.safetensors: 100%|██████████| 438M/438M [00:40<00:00, 10.9MB/s] \n",
      "tokenizer_config.json: 100%|██████████| 363/363 [00:00<00:00, 976kB/s]\n",
      "vocab.txt: 100%|██████████| 232k/232k [00:00<00:00, 1.02MB/s]\n",
      "tokenizer.json: 100%|██████████| 466k/466k [00:00<00:00, 1.49MB/s]\n",
      "special_tokens_map.json: 100%|██████████| 239/239 [00:00<00:00, 518kB/s]\n",
      "1_Pooling/config.json: 100%|██████████| 190/190 [00:00<00:00, 526kB/s]\n"
     ]
    },
    {
     "name": "stdout",
     "output_type": "stream",
     "text": [
      "[[ 0.03601315 -0.03482058 -0.0084838  ... -0.04571353  0.02780311\n",
      "  -0.01912106]\n",
      " [ 0.04001369  0.00855442 -0.01886307 ... -0.0060088  -0.05130467\n",
      "  -0.02208149]]\n"
     ]
    }
   ],
   "source": [
    "from sentence_transformers import SentenceTransformer\n",
    "sentences = [\"This is an example sentence\", \"Each sentence is converted\"]\n",
    "\n",
    "model = SentenceTransformer('sentence-transformers/all-mpnet-base-v1')\n",
    "embeddings = model.encode(sentences)\n",
    "print(embeddings)"
   ]
  },
  {
   "cell_type": "code",
   "execution_count": 7,
   "metadata": {},
   "outputs": [
    {
     "name": "stdout",
     "output_type": "stream",
     "text": [
      "(2, 768)\n"
     ]
    }
   ],
   "source": [
    "print(embeddings.squeeze().shape)"
   ]
  },
  {
   "cell_type": "code",
   "execution_count": 9,
   "metadata": {},
   "outputs": [],
   "source": [
    "model = SentenceTransformer('sentence-transformers/all-mpnet-base-v1')\n",
    "x = model.encode(sentences=df['text'].values)"
   ]
  },
  {
   "cell_type": "code",
   "execution_count": 16,
   "metadata": {},
   "outputs": [],
   "source": [
    "with open(r'/Users/giammarcocellini/Desktop/nlp/applied_nlp_python_course/data/Tweets_x.pickle','wb') as output_file:\n",
    "    pickle.dump(x, output_file)\n"
   ]
  },
  {
   "cell_type": "code",
   "execution_count": 35,
   "metadata": {},
   "outputs": [],
   "source": [
    "\n",
    "with open(r'/Users/giammarcocellini/Desktop/nlp/applied_nlp_python_course/data/Tweets_x.pickle','rb') as input_file:\n",
    "    x = pickle.load(input_file)"
   ]
  },
  {
   "cell_type": "code",
   "execution_count": 36,
   "metadata": {},
   "outputs": [
    {
     "data": {
      "text/plain": [
       "(27480, 768)"
      ]
     },
     "execution_count": 36,
     "metadata": {},
     "output_type": "execute_result"
    }
   ],
   "source": [
    "x.shape"
   ]
  },
  {
   "cell_type": "code",
   "execution_count": 37,
   "metadata": {},
   "outputs": [],
   "source": [
    "y = df['class'].values"
   ]
  },
  {
   "cell_type": "code",
   "execution_count": 38,
   "metadata": {},
   "outputs": [],
   "source": [
    "# train test split \n",
    "x_train , x_test, y_train, y_test = train_test_split(\n",
    "    x, y , test_size= 0.5, random_state=123\n",
    ")"
   ]
  },
  {
   "cell_type": "code",
   "execution_count": 39,
   "metadata": {},
   "outputs": [],
   "source": [
    "class SentimentData(Dataset):\n",
    "    def __init__(self, X,y):\n",
    "        super().__init__()\n",
    "        self.X = torch.Tensor(X)\n",
    "        self.y = torch.Tensor(y).type(torch.LongTensor)\n",
    "        self.len = len(self.X)\n",
    "\n",
    "    def __len__(self):\n",
    "        return self.len\n",
    "    \n",
    "    def __getitem__(self, index):\n",
    "        return self.X[index], self.y[index]\n",
    "    \n",
    "train_ds = SentimentData(X = x_train , y = y_train)\n",
    "test_ds = SentimentData(X = x_test, y = y_test)\n"
   ]
  },
  {
   "cell_type": "code",
   "execution_count": 40,
   "metadata": {},
   "outputs": [],
   "source": [
    "train_loader = DataLoader(dataset = train_ds,\n",
    "                          batch_size= BATCH_SIZE,\n",
    "                          shuffle = True)\n",
    "test_loader = DataLoader(dataset = test_ds, batch_size = 15000)\n"
   ]
  },
  {
   "cell_type": "code",
   "execution_count": 41,
   "metadata": {},
   "outputs": [],
   "source": [
    "class SentimentModel(nn.Module):\n",
    "    def __init__(self, NUM_FEATURES, NUM_CLASSES, HIDDEN = 10):\n",
    "        super().__init__()\n",
    "        self.linear = nn.Linear(NUM_FEATURES, HIDDEN)\n",
    "        self.linear2 = nn.Linear(HIDDEN, NUM_CLASSES)\n",
    "        self.relu = nn.ReLU()\n",
    "        self.log_softmax = nn.LogSoftmax(dim  =1)\n",
    "\n",
    "    def forward(self, x):\n",
    "        x = self.linear(x)\n",
    "        x = self.relu(x)\n",
    "        x = self.linear2(x)\n",
    "        x = self.log_softmax(x)\n",
    "        return x"
   ]
  },
  {
   "cell_type": "code",
   "execution_count": 42,
   "metadata": {},
   "outputs": [],
   "source": [
    "# model , loss, optimizer\n",
    "\n",
    "model = SentimentModel(NUM_FEATURES=x_train.shape[1],\n",
    "                       NUM_CLASSES=3)\n",
    "\n",
    "criterion = nn.CrossEntropyLoss()\n",
    "optimizer = torch.optim.AdamW(model.parameters())\n"
   ]
  },
  {
   "cell_type": "code",
   "execution_count": 43,
   "metadata": {},
   "outputs": [
    {
     "name": "stdout",
     "output_type": "stream",
     "text": [
      "Epoch 0, Loss: 111.41731715202332\n",
      "Epoch 1, Loss: 91.93635165691376\n",
      "Epoch 2, Loss: 82.0493391752243\n",
      "Epoch 3, Loss: 78.393075466156\n",
      "Epoch 4, Loss: 76.33755534887314\n",
      "Epoch 5, Loss: 74.99187076091766\n",
      "Epoch 6, Loss: 74.07953119277954\n",
      "Epoch 7, Loss: 73.33856093883514\n",
      "Epoch 8, Loss: 72.73187643289566\n",
      "Epoch 9, Loss: 72.11603629589081\n",
      "Epoch 10, Loss: 71.56425261497498\n",
      "Epoch 11, Loss: 71.04268303513527\n",
      "Epoch 12, Loss: 70.7661160826683\n",
      "Epoch 13, Loss: 70.47696852684021\n",
      "Epoch 14, Loss: 69.95616388320923\n",
      "Epoch 15, Loss: 69.66580802202225\n",
      "Epoch 16, Loss: 69.24910229444504\n",
      "Epoch 17, Loss: 69.01334244012833\n",
      "Epoch 18, Loss: 68.67149710655212\n",
      "Epoch 19, Loss: 68.47966223955154\n",
      "Epoch 20, Loss: 68.0443449318409\n",
      "Epoch 21, Loss: 67.84467932581902\n",
      "Epoch 22, Loss: 67.6484243273735\n",
      "Epoch 23, Loss: 67.45716601610184\n",
      "Epoch 24, Loss: 67.07689329981804\n",
      "Epoch 25, Loss: 66.78169652819633\n",
      "Epoch 26, Loss: 66.56167435646057\n",
      "Epoch 27, Loss: 66.42502403259277\n",
      "Epoch 28, Loss: 66.17506954073906\n",
      "Epoch 29, Loss: 65.85281652212143\n",
      "Epoch 30, Loss: 65.73967865109444\n",
      "Epoch 31, Loss: 65.52287894487381\n",
      "Epoch 32, Loss: 65.43080216646194\n",
      "Epoch 33, Loss: 65.0823715031147\n",
      "Epoch 34, Loss: 64.88899710774422\n",
      "Epoch 35, Loss: 64.66731816530228\n",
      "Epoch 36, Loss: 64.52721834182739\n",
      "Epoch 37, Loss: 64.34314393997192\n",
      "Epoch 38, Loss: 64.25302395224571\n",
      "Epoch 39, Loss: 63.95463192462921\n",
      "Epoch 40, Loss: 63.88048958778381\n",
      "Epoch 41, Loss: 63.67057701945305\n",
      "Epoch 42, Loss: 63.696140229701996\n",
      "Epoch 43, Loss: 63.25617352128029\n",
      "Epoch 44, Loss: 63.220349818468094\n",
      "Epoch 45, Loss: 62.96504172682762\n",
      "Epoch 46, Loss: 62.846673369407654\n",
      "Epoch 47, Loss: 62.81428503990173\n",
      "Epoch 48, Loss: 62.51650542020798\n",
      "Epoch 49, Loss: 62.41654849052429\n",
      "Epoch 50, Loss: 62.29280486702919\n",
      "Epoch 51, Loss: 62.15506899356842\n",
      "Epoch 52, Loss: 61.83161586523056\n",
      "Epoch 53, Loss: 61.79928767681122\n",
      "Epoch 54, Loss: 61.7517865896225\n",
      "Epoch 55, Loss: 61.48572281002998\n",
      "Epoch 56, Loss: 61.13176217675209\n",
      "Epoch 57, Loss: 61.10563951730728\n",
      "Epoch 58, Loss: 60.98520830273628\n",
      "Epoch 59, Loss: 61.00139009952545\n",
      "Epoch 60, Loss: 60.85428908467293\n",
      "Epoch 61, Loss: 60.69113263487816\n",
      "Epoch 62, Loss: 60.428537756204605\n",
      "Epoch 63, Loss: 60.28060784935951\n",
      "Epoch 64, Loss: 60.147248923778534\n",
      "Epoch 65, Loss: 60.12953060865402\n",
      "Epoch 66, Loss: 59.905267983675\n",
      "Epoch 67, Loss: 59.67724511027336\n",
      "Epoch 68, Loss: 59.59131443500519\n",
      "Epoch 69, Loss: 59.4317045211792\n",
      "Epoch 70, Loss: 59.387933015823364\n",
      "Epoch 71, Loss: 59.2266703248024\n",
      "Epoch 72, Loss: 59.02388948202133\n",
      "Epoch 73, Loss: 58.927827298641205\n",
      "Epoch 74, Loss: 58.79411566257477\n",
      "Epoch 75, Loss: 58.66318470239639\n",
      "Epoch 76, Loss: 58.3924540579319\n",
      "Epoch 77, Loss: 58.484414368867874\n",
      "Epoch 78, Loss: 58.24015522003174\n",
      "Epoch 79, Loss: 58.12961456179619\n"
     ]
    }
   ],
   "source": [
    "# training\n",
    "train_losses = []\n",
    "\n",
    "for e in range(NUM_EPOCHS):\n",
    "    curr_loss = 0\n",
    "    for x_batch, y_batch in train_loader:\n",
    "        optimizer.zero_grad()\n",
    "        y_pred_log = model(x_batch)\n",
    "        loss = criterion(y_pred_log, y_batch.long())\n",
    "\n",
    "        curr_loss += loss.item()\n",
    "        loss.backward()\n",
    "        optimizer.step()\n",
    "\n",
    "    train_losses.append(curr_loss)\n",
    "    print(f'Epoch {e}, Loss: {curr_loss}')"
   ]
  },
  {
   "cell_type": "code",
   "execution_count": 44,
   "metadata": {},
   "outputs": [
    {
     "data": {
      "text/plain": [
       "<Axes: >"
      ]
     },
     "execution_count": 44,
     "metadata": {},
     "output_type": "execute_result"
    },
    {
     "data": {
      "image/png": "[encoded data removed]",
      "text/plain": [
       "<Figure size 640x480 with 1 Axes>"
      ]
     },
     "metadata": {},
     "output_type": "display_data"
    }
   ],
   "source": [
    "sns.lineplot(x= list(range(len(train_losses))), y = train_losses)"
   ]
  },
  {
   "cell_type": "code",
   "execution_count": 49,
   "metadata": {},
   "outputs": [],
   "source": [
    "with torch.no_grad():\n",
    "    for x_b, y_b in test_loader:\n",
    "        y_test_pred_log = model(x_b)\n",
    "        y_test_pred = torch.argmax(y_test_pred_log, dim =1)\n",
    "\n",
    "y_test_pred_np = y_test_pred.squeeze().cpu().numpy()"
   ]
  },
  {
   "cell_type": "code",
   "execution_count": 50,
   "metadata": {},
   "outputs": [
    {
     "data": {
      "text/plain": [
       "'The accuracy of the model is 68.0%.'"
      ]
     },
     "execution_count": 50,
     "metadata": {},
     "output_type": "execute_result"
    }
   ],
   "source": [
    "\n",
    "acc = accuracy_score(y_pred=y_test_pred_np, y_true = y_test)\n",
    "f\"The accuracy of the model is {np.round(acc, 3)*100}%.\""
   ]
  },
  {
   "cell_type": "code",
   "execution_count": 51,
   "metadata": {},
   "outputs": [
    {
     "name": "stdout",
     "output_type": "stream",
     "text": [
      "Naive Classifier: 41.0 %\n"
     ]
    }
   ],
   "source": [
    "\n",
    "most_common_cnt = Counter(y_test).most_common()[0][1]\n",
    "print(f\"Naive Classifier: {np.round(most_common_cnt / len(y_test) * 100, 1)} %\")"
   ]
  },
  {
   "cell_type": "code",
   "execution_count": null,
   "metadata": {},
   "outputs": [],
   "source": []
  }
 ],
 "metadata": {
  "kernelspec": {
   "display_name": "nlp",
   "language": "python",
   "name": "python3"
  },
  "language_info": {
   "codemirror_mode": {
    "name": "ipython",
    "version": 3
   },
   "file_extension": ".py",
   "mimetype": "text/x-python",
   "name": "python",
   "nbconvert_exporter": "python",
   "pygments_lexer": "ipython3",
   "version": "3.10.11"
  }
 },
 "nbformat": 4,
 "nbformat_minor": 2
}
