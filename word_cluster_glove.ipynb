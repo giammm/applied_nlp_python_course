{
 "cells": [
  {
   "cell_type": "markdown",
   "metadata": {},
   "source": [
    "# GloVe word cluster\n",
    "\n",
    "we are going to check the embeddings of the words with GloVe.\n",
    "\n",
    "given some categories like:\n",
    "- algebra\n",
    "- music\n",
    "- numbers\n",
    "- science\n",
    "- technology\n",
    "\n",
    "we are looking for the closest words which are corresponding to these categories. Then we reduce the embedding space, from 100 to 2 with t-SNE to visualize it."
   ]
  },
  {
   "cell_type": "code",
   "execution_count": 1,
   "metadata": {},
   "outputs": [],
   "source": [
    "import pandas as pd \n",
    "from plotnine import ggplot, aes, geom_text, labs\n",
    "from sklearn.manifold import TSNE\n",
    "import torchtext.vocab as vocab\n",
    "import torch"
   ]
  },
  {
   "cell_type": "code",
   "execution_count": 2,
   "metadata": {},
   "outputs": [],
   "source": [
    "# import GloVe\n",
    "glove_dim = 100\n",
    "glove = vocab.GloVe(name = '6B', dim = glove_dim)\n"
   ]
  },
  {
   "cell_type": "code",
   "execution_count": 3,
   "metadata": {},
   "outputs": [
    {
     "data": {
      "text/plain": [
       "['football', 'soccer', 'basketball', 'league', 'rugby']"
      ]
     },
     "execution_count": 3,
     "metadata": {},
     "output_type": "execute_result"
    }
   ],
   "source": [
    "# get closest words from word input\n",
    "def get_embedding_vector(word):\n",
    "    word_index = glove.stoi[word]\n",
    "    word_emb = glove.vectors[word_index]\n",
    "    return word_emb\n",
    "\n",
    "def get_closest_words_from_word(word, max_n = 5):\n",
    "    word_emb = get_embedding_vector(word)\n",
    "    distances = [(w, torch.dist(word_emb, get_embedding_vector(w)).cpu().item()) for w in glove.itos]\n",
    "    sort_dist_list = sorted(distances, key = lambda x: x[1])[:max_n]\n",
    "    return [item[0] for item in sort_dist_list]\n",
    "\n",
    "get_closest_words_from_word('football')"
   ]
  },
  {
   "cell_type": "code",
   "execution_count": 5,
   "metadata": {},
   "outputs": [],
   "source": [
    "words = []\n",
    "categories = ['numbers','algebra','music','science','technology']\n",
    "\n",
    "df_word_cloud = pd.DataFrame({\n",
    "    'category':[],\n",
    "    'word':[]\n",
    "})\n",
    "\n",
    "for category in categories:\n",
    "    closest_words = get_closest_words_from_word(word = category, max_n = 20)\n",
    "    temp = pd.DataFrame({\n",
    "        'category': [category] * len(closest_words),\n",
    "        'word': closest_words\n",
    "    })\n",
    "    df_word_cloud = pd.concat([df_word_cloud, temp],ignore_index = True)"
   ]
  },
  {
   "cell_type": "code",
   "execution_count": 6,
   "metadata": {},
   "outputs": [
    {
     "data": {
      "text/html": [
       "<div>\n",
       "<style scoped>\n",
       "    .dataframe tbody tr th:only-of-type {\n",
       "        vertical-align: middle;\n",
       "    }\n",
       "\n",
       "    .dataframe tbody tr th {\n",
       "        vertical-align: top;\n",
       "    }\n",
       "\n",
       "    .dataframe thead th {\n",
       "        text-align: right;\n",
       "    }\n",
       "</style>\n",
       "<table border=\"1\" class=\"dataframe\">\n",
       "  <thead>\n",
       "    <tr style=\"text-align: right;\">\n",
       "      <th></th>\n",
       "      <th>category</th>\n",
       "      <th>word</th>\n",
       "    </tr>\n",
       "  </thead>\n",
       "  <tbody>\n",
       "    <tr>\n",
       "      <th>0</th>\n",
       "      <td>numbers</td>\n",
       "      <td>numbers</td>\n",
       "    </tr>\n",
       "    <tr>\n",
       "      <th>1</th>\n",
       "      <td>numbers</td>\n",
       "      <td>number</td>\n",
       "    </tr>\n",
       "    <tr>\n",
       "      <th>2</th>\n",
       "      <td>numbers</td>\n",
       "      <td>though</td>\n",
       "    </tr>\n",
       "    <tr>\n",
       "      <th>3</th>\n",
       "      <td>numbers</td>\n",
       "      <td>instance</td>\n",
       "    </tr>\n",
       "    <tr>\n",
       "      <th>4</th>\n",
       "      <td>numbers</td>\n",
       "      <td>fact</td>\n",
       "    </tr>\n",
       "    <tr>\n",
       "      <th>...</th>\n",
       "      <td>...</td>\n",
       "      <td>...</td>\n",
       "    </tr>\n",
       "    <tr>\n",
       "      <th>95</th>\n",
       "      <td>technology</td>\n",
       "      <td>applications</td>\n",
       "    </tr>\n",
       "    <tr>\n",
       "      <th>96</th>\n",
       "      <td>technology</td>\n",
       "      <td>innovations</td>\n",
       "    </tr>\n",
       "    <tr>\n",
       "      <th>97</th>\n",
       "      <td>technology</td>\n",
       "      <td>developing</td>\n",
       "    </tr>\n",
       "    <tr>\n",
       "      <th>98</th>\n",
       "      <td>technology</td>\n",
       "      <td>research</td>\n",
       "    </tr>\n",
       "    <tr>\n",
       "      <th>99</th>\n",
       "      <td>technology</td>\n",
       "      <td>integrated</td>\n",
       "    </tr>\n",
       "  </tbody>\n",
       "</table>\n",
       "<p>100 rows × 2 columns</p>\n",
       "</div>"
      ],
      "text/plain": [
       "      category          word\n",
       "0      numbers       numbers\n",
       "1      numbers        number\n",
       "2      numbers        though\n",
       "3      numbers      instance\n",
       "4      numbers          fact\n",
       "..         ...           ...\n",
       "95  technology  applications\n",
       "96  technology   innovations\n",
       "97  technology    developing\n",
       "98  technology      research\n",
       "99  technology    integrated\n",
       "\n",
       "[100 rows x 2 columns]"
      ]
     },
     "execution_count": 6,
     "metadata": {},
     "output_type": "execute_result"
    }
   ],
   "source": [
    "df_word_cloud"
   ]
  },
  {
   "cell_type": "code",
   "execution_count": 7,
   "metadata": {},
   "outputs": [],
   "source": [
    "# get the 100 dimension word embedding for all words \n",
    "\n",
    "n_rows = df_word_cloud.shape[0]\n",
    "n_cols = glove_dim\n",
    "x = torch.empty((n_rows, n_cols))\n",
    "for i in range(n_rows):\n",
    "    current_word = df_word_cloud.loc[i, 'word']\n",
    "    x[i,:] = get_embedding_vector(current_word)\n",
    "    # print(f'{i}: {current_word}')\n",
    "    "
   ]
  },
  {
   "cell_type": "code",
   "execution_count": 8,
   "metadata": {},
   "outputs": [
    {
     "ename": "",
     "evalue": "",
     "output_type": "error",
     "traceback": [
      "\u001b[1;31mSi è verificato un arresto anomalo del Kernel durante l'esecuzione del codice nella cella attiva o in una cella precedente. \n",
      "\u001b[1;31mEsaminare il codice nelle celle per identificare una possibile causa dell'errore. \n",
      "\u001b[1;31mPer altre informazioni, fare clic<a href='https://aka.ms/vscodeJupyterKernelCrash'>qui</a>. \n",
      "\u001b[1;31mPer ulteriori dettagli, visualizzare Jupyter <a href='command:jupyter.viewOutput'>log</a>."
     ]
    }
   ],
   "source": [
    "tsne = TSNE(n_components = 2)\n",
    "x_tsne = tsne.fit_transform(x.cpu().numpy())"
   ]
  },
  {
   "cell_type": "code",
   "execution_count": null,
   "metadata": {},
   "outputs": [],
   "source": [
    "df_word_cloud['x'] = x_tsne[:,0]\n",
    "df_word_cloud['y'] = x_tsne[:,1]\n",
    "\n",
    "ggplot(data = df_word_cloud.sample(25)) + aes(x = 'x', y = 'y', label = 'word', color = 'category')+\\\n",
    "geom_text() + labs(title = 'GloVe Word Embeddings and Categories')"
   ]
  }
 ],
 "metadata": {
  "kernelspec": {
   "display_name": "nlp",
   "language": "python",
   "name": "python3"
  },
  "language_info": {
   "codemirror_mode": {
    "name": "ipython",
    "version": 3
   },
   "file_extension": ".py",
   "mimetype": "text/x-python",
   "name": "python",
   "nbconvert_exporter": "python",
   "pygments_lexer": "ipython3",
   "version": "3.10.11"
  }
 },
 "nbformat": 4,
 "nbformat_minor": 2
}
